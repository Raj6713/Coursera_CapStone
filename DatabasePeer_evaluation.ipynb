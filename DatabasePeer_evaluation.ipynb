{
    "nbformat_minor": 1, 
    "cells": [
        {
            "source": "# Hidden Cell to make connection with DataBase", 
            "cell_type": "markdown", 
            "metadata": {}
        }, 
        {
            "execution_count": 1, 
            "cell_type": "code", 
            "metadata": {
                "scrolled": true
            }, 
            "outputs": [
                {
                    "output_type": "stream", 
                    "name": "stdout", 
                    "text": "Requirement not upgraded as not directly required: sqlalchemy in /opt/conda/envs/DSX-Python35/lib/python3.5/site-packages\nCollecting ipython-sql\n  Downloading https://files.pythonhosted.org/packages/ab/df/427e7cf05ffc67e78672ad57dce2436c1e825129033effe6fcaf804d0c60/ipython_sql-0.3.9-py2.py3-none-any.whl\nRequirement not upgraded as not directly required: six in /opt/conda/envs/DSX-Python35/lib/python3.5/site-packages (from ipython-sql)\nCollecting sqlparse (from ipython-sql)\n  Downloading https://files.pythonhosted.org/packages/65/85/20bdd72f4537cf2c4d5d005368d502b2f464ede22982e724a82c86268eda/sqlparse-0.2.4-py2.py3-none-any.whl\nCollecting prettytable (from ipython-sql)\n  Downloading https://files.pythonhosted.org/packages/ef/30/4b0746848746ed5941f052479e7c23d2b56d174b82f4fd34a25e389831f5/prettytable-0.7.2.tar.bz2\nRequirement not upgraded as not directly required: ipython>=1.0 in /opt/conda/envs/DSX-Python35/lib/python3.5/site-packages (from ipython-sql)\nRequirement not upgraded as not directly required: ipython-genutils>=0.1.0 in /opt/conda/envs/DSX-Python35/lib/python3.5/site-packages (from ipython-sql)\nRequirement not upgraded as not directly required: sqlalchemy>=0.6.7 in /opt/conda/envs/DSX-Python35/lib/python3.5/site-packages (from ipython-sql)\nRequirement not upgraded as not directly required: setuptools>=18.5 in /opt/conda/envs/DSX-Python35/lib/python3.5/site-packages (from ipython>=1.0->ipython-sql)\nRequirement not upgraded as not directly required: jedi>=0.10 in /opt/conda/envs/DSX-Python35/lib/python3.5/site-packages (from ipython>=1.0->ipython-sql)\nRequirement not upgraded as not directly required: decorator in /opt/conda/envs/DSX-Python35/lib/python3.5/site-packages (from ipython>=1.0->ipython-sql)\nRequirement not upgraded as not directly required: pickleshare in /opt/conda/envs/DSX-Python35/lib/python3.5/site-packages (from ipython>=1.0->ipython-sql)\nRequirement not upgraded as not directly required: simplegeneric>0.8 in /opt/conda/envs/DSX-Python35/lib/python3.5/site-packages (from ipython>=1.0->ipython-sql)\nRequirement not upgraded as not directly required: traitlets>=4.2 in /opt/conda/envs/DSX-Python35/lib/python3.5/site-packages (from ipython>=1.0->ipython-sql)\nRequirement not upgraded as not directly required: prompt_toolkit<2.0.0,>=1.0.4 in /opt/conda/envs/DSX-Python35/lib/python3.5/site-packages (from ipython>=1.0->ipython-sql)\nRequirement not upgraded as not directly required: pygments in /opt/conda/envs/DSX-Python35/lib/python3.5/site-packages (from ipython>=1.0->ipython-sql)\nRequirement not upgraded as not directly required: pexpect in /opt/conda/envs/DSX-Python35/lib/python3.5/site-packages (from ipython>=1.0->ipython-sql)\nRequirement not upgraded as not directly required: wcwidth in /opt/conda/envs/DSX-Python35/lib/python3.5/site-packages (from prompt_toolkit<2.0.0,>=1.0.4->ipython>=1.0->ipython-sql)\nBuilding wheels for collected packages: prettytable\n  Running setup.py bdist_wheel for prettytable ... \u001b[?25ldone\n\u001b[?25h  Stored in directory: /home/dsxuser/.cache/pip/wheels/80/34/1c/3967380d9676d162cb59513bd9dc862d0584e045a162095606\nSuccessfully built prettytable\nInstalling collected packages: sqlparse, prettytable, ipython-sql\nSuccessfully installed ipython-sql-0.3.9 prettytable-0.7.2 sqlparse-0.2.4\n"
                }
            ], 
            "source": "!pip install sqlalchemy\n!pip install ipython-sql"
        }, 
        {
            "execution_count": 2, 
            "cell_type": "code", 
            "metadata": {}, 
            "outputs": [
                {
                    "execution_count": 2, 
                    "metadata": {}, 
                    "data": {
                        "text/plain": "'Connected: zcp21480@BLUDB'"
                    }, 
                    "output_type": "execute_result"
                }
            ], 
            "source": "# The code was removed by Watson Studio for sharing."
        }, 
        {
            "source": "# Question 1. Find Count for each tables", 
            "cell_type": "markdown", 
            "metadata": {}
        }, 
        {
            "execution_count": 8, 
            "cell_type": "code", 
            "metadata": {}, 
            "outputs": [
                {
                    "output_type": "stream", 
                    "name": "stdout", 
                    "text": " * ibm_db_sa://zcp21480:***@dashdb-txn-sbox-yp-lon02-01.services.eu-gb.bluemix.net:50000/BLUDB\nDone.\n"
                }, 
                {
                    "execution_count": 8, 
                    "metadata": {}, 
                    "data": {
                        "text/html": "<table>\n    <tr>\n        <th>1</th>\n    </tr>\n    <tr>\n        <td>78</td>\n    </tr>\n</table>", 
                        "text/plain": "[(Decimal('78'),)]"
                    }, 
                    "output_type": "execute_result"
                }
            ], 
            "source": "%%sql\nSELECT COUNT(*) FROM ZCP21480.CHICAGO_SOCIOECONOMIC_DATA;"
        }, 
        {
            "execution_count": 9, 
            "cell_type": "code", 
            "metadata": {}, 
            "outputs": [
                {
                    "output_type": "stream", 
                    "name": "stdout", 
                    "text": " * ibm_db_sa://zcp21480:***@dashdb-txn-sbox-yp-lon02-01.services.eu-gb.bluemix.net:50000/BLUDB\nDone.\n"
                }, 
                {
                    "execution_count": 9, 
                    "metadata": {}, 
                    "data": {
                        "text/html": "<table>\n    <tr>\n        <th>1</th>\n    </tr>\n    <tr>\n        <td>533</td>\n    </tr>\n</table>", 
                        "text/plain": "[(Decimal('533'),)]"
                    }, 
                    "output_type": "execute_result"
                }
            ], 
            "source": "%%sql\nSELECT COUNT(*) FROM ZCP21480.CHICAGO_CRIME_DATA;"
        }, 
        {
            "execution_count": 10, 
            "cell_type": "code", 
            "metadata": {}, 
            "outputs": [
                {
                    "output_type": "stream", 
                    "name": "stdout", 
                    "text": " * ibm_db_sa://zcp21480:***@dashdb-txn-sbox-yp-lon02-01.services.eu-gb.bluemix.net:50000/BLUDB\nDone.\n"
                }, 
                {
                    "execution_count": 10, 
                    "metadata": {}, 
                    "data": {
                        "text/html": "<table>\n    <tr>\n        <th>1</th>\n    </tr>\n    <tr>\n        <td>566</td>\n    </tr>\n</table>", 
                        "text/plain": "[(Decimal('566'),)]"
                    }, 
                    "output_type": "execute_result"
                }
            ], 
            "source": "%%sql\nSELECT COUNT(*) FROM ZCP21480.SCHOOLS;"
        }, 
        {
            "source": "# Question 2. Average College enrollment for Community area.", 
            "cell_type": "markdown", 
            "metadata": {}
        }, 
        {
            "execution_count": 34, 
            "cell_type": "code", 
            "metadata": {}, 
            "outputs": [
                {
                    "output_type": "stream", 
                    "name": "stdout", 
                    "text": " * ibm_db_sa://zcp21480:***@dashdb-txn-sbox-yp-lon02-01.services.eu-gb.bluemix.net:50000/BLUDB\nDone.\n"
                }, 
                {
                    "execution_count": 34, 
                    "metadata": {}, 
                    "data": {
                        "text/html": "<table>\n    <tr>\n        <th>School_ID</th>\n        <th>Name_of_School</th>\n        <th>Elementary, Middle, or High School</th>\n        <th>Street_Address</th>\n        <th>City</th>\n        <th>State</th>\n        <th>ZIP_Code</th>\n        <th>Phone_Number</th>\n        <th>Link</th>\n        <th>Network_Manager</th>\n        <th>Collaborative_Name</th>\n        <th>Adequate_Yearly_Progress_Made_</th>\n        <th>Track_Schedule</th>\n        <th>CPS_Performance_Policy_Status</th>\n        <th>CPS_Performance_Policy_Level</th>\n        <th>Healthy_Schools_Certified_</th>\n        <th>Safety_Icon</th>\n        <th>Safety_Score</th>\n        <th>Family_Involvement_Icon</th>\n        <th>Family_Involvement_Score</th>\n        <th>Environment_Icon</th>\n        <th>Environment_Score</th>\n        <th>Instruction_Icon</th>\n        <th>Instruction_Score</th>\n        <th>Leaders_Icon</th>\n        <th>Leaders_Score</th>\n        <th>Teachers_Icon</th>\n        <th>Teachers_Score</th>\n        <th>Parent_Engagement_Icon</th>\n        <th>Parent_Engagement_Score</th>\n        <th>Parent_Environment_Icon</th>\n        <th>Parent_Environment_Score</th>\n        <th>Average_Student_Attendance</th>\n        <th>Rate_of_Misconducts__per_100_students_</th>\n        <th>Average_Teacher_Attendance</th>\n        <th>Individualized_Education_Program_Compliance_Rate</th>\n        <th>Pk_2_Literacy__</th>\n        <th>Pk_2_Math__</th>\n        <th>Gr3_5_Grade_Level_Math__</th>\n        <th>Gr3_5_Grade_Level_Read__</th>\n        <th>Gr3_5_Keep_Pace_Read__</th>\n        <th>Gr3_5_Keep_Pace_Math__</th>\n        <th>Gr6_8_Grade_Level_Math__</th>\n        <th>Gr6_8_Grade_Level_Read__</th>\n        <th>Gr6_8_Keep_Pace_Math_</th>\n        <th>Gr6_8_Keep_Pace_Read__</th>\n        <th>Gr_8_Explore_Math__</th>\n        <th>Gr_8_Explore_Read__</th>\n        <th>ISAT_Exceeding_Math__</th>\n        <th>ISAT_Exceeding_Reading__</th>\n        <th>ISAT_Value_Add_Math</th>\n        <th>ISAT_Value_Add_Read</th>\n        <th>ISAT_Value_Add_Color_Math</th>\n        <th>ISAT_Value_Add_Color_Read</th>\n        <th>Students_Taking__Algebra__</th>\n        <th>Students_Passing__Algebra__</th>\n        <th>9th Grade EXPLORE (2009)</th>\n        <th>9th Grade EXPLORE (2010)</th>\n        <th>10th Grade PLAN (2009)</th>\n        <th>10th Grade PLAN (2010)</th>\n        <th>Net_Change_EXPLORE_and_PLAN</th>\n        <th>11th Grade Average ACT (2011)</th>\n        <th>Net_Change_PLAN_and_ACT</th>\n        <th>College_Eligibility__</th>\n        <th>Graduation_Rate__</th>\n        <th>College_Enrollment_Rate__</th>\n        <th>College_Enrollment__number_of_students_</th>\n        <th>General_Services_Route</th>\n        <th>Freshman_on_Track_Rate__</th>\n        <th>RCDTS_Code</th>\n        <th>x_coordinate</th>\n        <th>y_coordinate</th>\n        <th>Latitude</th>\n        <th>Longitude</th>\n        <th>Community_Area_Number</th>\n        <th>Community_Area_Name</th>\n        <th>Ward</th>\n        <th>Police_District</th>\n        <th>Location</th>\n    </tr>\n    <tr>\n        <td>610038</td>\n        <td>Abraham Lincoln Elementary School</td>\n        <td>ES</td>\n        <td>615 W Kemper Pl</td>\n        <td>Chicago</td>\n        <td>IL</td>\n        <td>60614</td>\n        <td>(773) 534-5720</td>\n        <td>http://schoolreports.cps.edu/SchoolProgressReport_Eng/Spring2011Eng_610038.pdf</td>\n        <td>Fullerton Elementary Network</td>\n        <td>NORTH-NORTHWEST SIDE COLLABORATIVE</td>\n        <td>No</td>\n        <td>Standard</td>\n        <td>Not on Probation</td>\n        <td>Level 1</td>\n        <td>Yes</td>\n        <td>Very Strong</td>\n        <td>99</td>\n        <td>Very Strong</td>\n        <td>99</td>\n        <td>Strong</td>\n        <td>74</td>\n        <td>Strong</td>\n        <td>66</td>\n        <td>Strong</td>\n        <td>65</td>\n        <td>Strong</td>\n        <td>70</td>\n        <td>Strong</td>\n        <td>56</td>\n        <td>Average</td>\n        <td>47</td>\n        <td>96.0%</td>\n        <td>2.0</td>\n        <td>96.4%</td>\n        <td>95.8%</td>\n        <td>80.1</td>\n        <td>43.3</td>\n        <td>89.6</td>\n        <td>84.9</td>\n        <td>60.7</td>\n        <td>62.6</td>\n        <td>81.9</td>\n        <td>85.2</td>\n        <td>52</td>\n        <td>62.4</td>\n        <td>66.3</td>\n        <td>77.9</td>\n        <td>69.7</td>\n        <td>64.4</td>\n        <td>0.2</td>\n        <td>0.9</td>\n        <td>Yellow</td>\n        <td>Green</td>\n        <td>67.1</td>\n        <td>54.5</td>\n        <td>NDA</td>\n        <td>NDA</td>\n        <td>NDA</td>\n        <td>NDA</td>\n        <td>NDA</td>\n        <td>NDA</td>\n        <td>NDA</td>\n        <td>NDA</td>\n        <td>NDA</td>\n        <td>NDA</td>\n        <td>813</td>\n        <td>33</td>\n        <td>NDA</td>\n        <td>150000000000000</td>\n        <td>1171699.458</td>\n        <td>1915829.428</td>\n        <td>41.92449696</td>\n        <td>-87.64452163</td>\n        <td>7</td>\n        <td>LINCOLN PARK</td>\n        <td>43</td>\n        <td>18</td>\n        <td>(41.92449696, -87.64452163)</td>\n    </tr>\n</table>", 
                        "text/plain": "[(610038, 'Abraham Lincoln Elementary School', 'ES', '615 W Kemper Pl', 'Chicago', 'IL', 60614, '(773) 534-5720', 'http://schoolreports.cps.edu/SchoolProgressReport_Eng/Spring2011Eng_610038.pdf', 'Fullerton Elementary Network', 'NORTH-NORTHWEST SIDE COLLABORATIVE', 'No', 'Standard', 'Not on Probation', 'Level 1', 'Yes', 'Very Strong', 99, 'Very Strong', '99', 'Strong', 74, 'Strong', 66, 'Strong', '65', 'Strong', '70', 'Strong', '56', 'Average', '47', '96.0%', Decimal('2.0'), '96.4%', '95.8%', '80.1', '43.3', '89.6', '84.9', '60.7', '62.6', '81.9', '85.2', '52', '62.4', '66.3', '77.9', Decimal('69.7'), Decimal('64.4'), Decimal('0.2'), Decimal('0.9'), 'Yellow', 'Green', '67.1', '54.5', 'NDA', 'NDA', 'NDA', 'NDA', 'NDA', 'NDA', 'NDA', 'NDA', 'NDA', 'NDA', 813, 33, 'NDA', 150000000000000, Decimal('1171699.458'), Decimal('1915829.428'), Decimal('41.92449696'), Decimal('-87.64452163'), 7, 'LINCOLN PARK', 43, 18, '(41.92449696, -87.64452163)')]"
                    }, 
                    "output_type": "execute_result"
                }
            ], 
            "source": "%%sql\nSELECT * FROM ZCP21480.SCHOOLS LIMIT 1;"
        }, 
        {
            "execution_count": 39, 
            "cell_type": "code", 
            "metadata": {}, 
            "outputs": [
                {
                    "output_type": "stream", 
                    "name": "stdout", 
                    "text": " * ibm_db_sa://zcp21480:***@dashdb-txn-sbox-yp-lon02-01.services.eu-gb.bluemix.net:50000/BLUDB\n(ibm_db_dbi.ProgrammingError) ibm_db_dbi::ProgrammingError: SQLNumResultCols failed: [IBM][CLI Driver][DB2/LINUXX8664] SQL0206N  \"COLLEGE_ENROLLMENT_RATE__\" is not valid in the context where it is used.  SQLSTATE=42703 SQLCODE=-206 [SQL: 'SELECT College_Enrollment_Rate__ FROM ZCP21480.SCHOOLS;']\n"
                }
            ], 
            "source": "%%sql \nSELECT College_Enrollment_Rate__ FROM ZCP21480.SCHOOLS;"
        }, 
        {
            "execution_count": null, 
            "cell_type": "code", 
            "metadata": {}, 
            "outputs": [], 
            "source": ""
        }
    ], 
    "metadata": {
        "kernelspec": {
            "display_name": "Python 3.5", 
            "name": "python3", 
            "language": "python"
        }, 
        "language_info": {
            "mimetype": "text/x-python", 
            "nbconvert_exporter": "python", 
            "version": "3.5.5", 
            "name": "python", 
            "file_extension": ".py", 
            "pygments_lexer": "ipython3", 
            "codemirror_mode": {
                "version": 3, 
                "name": "ipython"
            }
        }
    }, 
    "nbformat": 4
}