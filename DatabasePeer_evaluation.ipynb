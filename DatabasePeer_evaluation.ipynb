{
    "nbformat_minor": 1, 
    "cells": [
        {
            "source": "# Hidden Cell to make connection with DataBase", 
            "cell_type": "markdown", 
            "metadata": {}
        }, 
        {
            "execution_count": 8, 
            "cell_type": "code", 
            "metadata": {}, 
            "outputs": [
                {
                    "output_type": "stream", 
                    "name": "stdout", 
                    "text": "Requirement not upgraded as not directly required: sqlalchemy in /opt/conda/envs/DSX-Python35/lib/python3.5/site-packages\nRequirement not upgraded as not directly required: ipython-sql in /opt/conda/envs/DSX-Python35/lib/python3.5/site-packages\nRequirement not upgraded as not directly required: sqlparse in /opt/conda/envs/DSX-Python35/lib/python3.5/site-packages (from ipython-sql)\nRequirement not upgraded as not directly required: ipython>=1.0 in /opt/conda/envs/DSX-Python35/lib/python3.5/site-packages (from ipython-sql)\nRequirement not upgraded as not directly required: ipython-genutils>=0.1.0 in /opt/conda/envs/DSX-Python35/lib/python3.5/site-packages (from ipython-sql)\nRequirement not upgraded as not directly required: prettytable in /opt/conda/envs/DSX-Python35/lib/python3.5/site-packages (from ipython-sql)\nRequirement not upgraded as not directly required: sqlalchemy>=0.6.7 in /opt/conda/envs/DSX-Python35/lib/python3.5/site-packages (from ipython-sql)\nRequirement not upgraded as not directly required: six in /opt/conda/envs/DSX-Python35/lib/python3.5/site-packages (from ipython-sql)\nRequirement not upgraded as not directly required: setuptools>=18.5 in /opt/conda/envs/DSX-Python35/lib/python3.5/site-packages (from ipython>=1.0->ipython-sql)\nRequirement not upgraded as not directly required: jedi>=0.10 in /opt/conda/envs/DSX-Python35/lib/python3.5/site-packages (from ipython>=1.0->ipython-sql)\nRequirement not upgraded as not directly required: decorator in /opt/conda/envs/DSX-Python35/lib/python3.5/site-packages (from ipython>=1.0->ipython-sql)\nRequirement not upgraded as not directly required: pickleshare in /opt/conda/envs/DSX-Python35/lib/python3.5/site-packages (from ipython>=1.0->ipython-sql)\nRequirement not upgraded as not directly required: simplegeneric>0.8 in /opt/conda/envs/DSX-Python35/lib/python3.5/site-packages (from ipython>=1.0->ipython-sql)\nRequirement not upgraded as not directly required: traitlets>=4.2 in /opt/conda/envs/DSX-Python35/lib/python3.5/site-packages (from ipython>=1.0->ipython-sql)\nRequirement not upgraded as not directly required: prompt_toolkit<2.0.0,>=1.0.4 in /opt/conda/envs/DSX-Python35/lib/python3.5/site-packages (from ipython>=1.0->ipython-sql)\nRequirement not upgraded as not directly required: pygments in /opt/conda/envs/DSX-Python35/lib/python3.5/site-packages (from ipython>=1.0->ipython-sql)\nRequirement not upgraded as not directly required: pexpect in /opt/conda/envs/DSX-Python35/lib/python3.5/site-packages (from ipython>=1.0->ipython-sql)\nRequirement not upgraded as not directly required: wcwidth in /opt/conda/envs/DSX-Python35/lib/python3.5/site-packages (from prompt_toolkit<2.0.0,>=1.0.4->ipython>=1.0->ipython-sql)\n"
                }
            ], 
            "source": "!pip install sqlalchemy\n!pip install ipython-sql"
        }, 
        {
            "execution_count": 9, 
            "cell_type": "code", 
            "metadata": {}, 
            "outputs": [
                {
                    "output_type": "stream", 
                    "name": "stdout", 
                    "text": "The sql extension is already loaded. To reload it, use:\n  %reload_ext sql\n"
                }, 
                {
                    "execution_count": 9, 
                    "metadata": {}, 
                    "data": {
                        "text/plain": "'Connected: zcp21480@BLUDB'"
                    }, 
                    "output_type": "execute_result"
                }
            ], 
            "source": "# The code was removed by Watson Studio for sharing."
        }, 
        {
            "execution_count": 10, 
            "cell_type": "code", 
            "metadata": {}, 
            "outputs": [
                {
                    "output_type": "stream", 
                    "name": "stdout", 
                    "text": "Hello\n"
                }
            ], 
            "source": "print(\"Hello\")"
        }, 
        {
            "execution_count": null, 
            "cell_type": "code", 
            "metadata": {}, 
            "outputs": [], 
            "source": ""
        }
    ], 
    "metadata": {
        "kernelspec": {
            "display_name": "Python 3.5", 
            "name": "python3", 
            "language": "python"
        }, 
        "language_info": {
            "mimetype": "text/x-python", 
            "nbconvert_exporter": "python", 
            "version": "3.5.5", 
            "name": "python", 
            "file_extension": ".py", 
            "pygments_lexer": "ipython3", 
            "codemirror_mode": {
                "version": 3, 
                "name": "ipython"
            }
        }
    }, 
    "nbformat": 4
}