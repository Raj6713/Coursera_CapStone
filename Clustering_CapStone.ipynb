{
    "nbformat_minor": 1, 
    "cells": [
        {
            "source": "#Installing beautifulSoup4\n!conda install beautifulsoup4", 
            "cell_type": "code", 
            "metadata": {}, 
            "outputs": [
                {
                    "output_type": "stream", 
                    "name": "stdout", 
                    "text": "Fetching package metadata ...........\nSolving package specifications: .\n\nPackage plan for installation in environment /opt/conda/envs/DSX-Python35:\n\nThe following packages will be UPDATED:\n\n    beautifulsoup4: 4.6.0-py35h442a8c9_1 --> 4.6.3-py35_0\n\nbeautifulsoup4 100% |################################| Time: 0:00:00  40.68 MB/s\n"
                }
            ], 
            "execution_count": 3
        }, 
        {
            "source": "#Immporting packages\nfrom bs4 import BeautifulSoup\nimport urllib.request\nimport urllib", 
            "cell_type": "code", 
            "metadata": {}, 
            "outputs": [], 
            "execution_count": 43
        }, 
        {
            "source": "#Creating request object for fetching the page\nsource = urllib.request.urlopen('https://en.wikipedia.org/wiki/List_of_postal_codes_of_Canada:_M')", 
            "cell_type": "code", 
            "metadata": {}, 
            "outputs": [], 
            "execution_count": 44
        }, 
        {
            "source": "soup = BeautifulSoup(source,'html.parser')", 
            "cell_type": "code", 
            "metadata": {}, 
            "outputs": [], 
            "execution_count": 45
        }, 
        {
            "source": "table = ''\npostal_code_list=[]\nfor record in soup.findAll('tr'):\n    data = []\n    for line in record.findAll('td'):\n        line=line.text.rstrip()\n        data.append(line)\n    postal_code_list.append(data)", 
            "cell_type": "code", 
            "metadata": {}, 
            "outputs": [], 
            "execution_count": 137
        }, 
        {
            "source": "postal_code_list = postal_code_list[1:]", 
            "cell_type": "code", 
            "metadata": {}, 
            "outputs": [], 
            "execution_count": 138
        }, 
        {
            "source": "import pandas as pd\nimport os\nprint(os.getcwd())\npostal_code_list\npostal_codes=pd.DataFrame(postal_code_list)", 
            "cell_type": "code", 
            "metadata": {}, 
            "outputs": [
                {
                    "output_type": "stream", 
                    "name": "stdout", 
                    "text": "/home/dsxuser/work\n"
                }
            ], 
            "execution_count": 139
        }, 
        {
            "source": "postal_codes=postal_codes[[0,1,2]]", 
            "cell_type": "code", 
            "metadata": {}, 
            "outputs": [], 
            "execution_count": 140
        }, 
        {
            "source": "postal_codes.columns=['PostCode', 'Borough', 'Neighborhood']", 
            "cell_type": "code", 
            "metadata": {}, 
            "outputs": [], 
            "execution_count": 142
        }, 
        {
            "source": "postal_codes.shape", 
            "cell_type": "code", 
            "metadata": {}, 
            "outputs": [
                {
                    "output_type": "execute_result", 
                    "data": {
                        "text/plain": "(294, 3)"
                    }, 
                    "execution_count": 144, 
                    "metadata": {}
                }
            ], 
            "execution_count": 144
        }, 
        {
            "source": "postal_codes['Borough'].unique()", 
            "cell_type": "code", 
            "metadata": {}, 
            "outputs": [
                {
                    "output_type": "execute_result", 
                    "data": {
                        "text/plain": "array(['Not assigned', 'North York', 'Downtown Toronto', \"Queen's Park\",\n       'Etobicoke', 'Scarborough', 'East York', 'York', 'East Toronto',\n       'West Toronto', 'Central Toronto', 'Mississauga', None, '', 'NL',\n       'NS', 'B'], dtype=object)"
                    }, 
                    "execution_count": 145, 
                    "metadata": {}
                }
            ], 
            "execution_count": 145
        }, 
        {
            "source": "borough_list=['North York', 'Downtown Toronto', \"Queen's Park\",\n       'Etobicoke', 'Scarborough', 'East York', 'York', 'East Toronto',\n       'West Toronto', 'Central Toronto', 'Mississauga']\npostal_codes = postal_codes[postal_codes['Borough'].isin(borough_list)]", 
            "cell_type": "code", 
            "metadata": {}, 
            "outputs": [], 
            "execution_count": 146
        }, 
        {
            "source": "postal_codes[postal_codes['PostCode']=='M5A']", 
            "cell_type": "code", 
            "metadata": {}, 
            "outputs": [
                {
                    "output_type": "execute_result", 
                    "data": {
                        "text/plain": "  PostCode           Borough  Neighborhood\n4      M5A  Downtown Toronto  Harbourfront\n5      M5A  Downtown Toronto   Regent Park", 
                        "text/html": "<div>\n<style scoped>\n    .dataframe tbody tr th:only-of-type {\n        vertical-align: middle;\n    }\n\n    .dataframe tbody tr th {\n        vertical-align: top;\n    }\n\n    .dataframe thead th {\n        text-align: right;\n    }\n</style>\n<table border=\"1\" class=\"dataframe\">\n  <thead>\n    <tr style=\"text-align: right;\">\n      <th></th>\n      <th>PostCode</th>\n      <th>Borough</th>\n      <th>Neighborhood</th>\n    </tr>\n  </thead>\n  <tbody>\n    <tr>\n      <th>4</th>\n      <td>M5A</td>\n      <td>Downtown Toronto</td>\n      <td>Harbourfront</td>\n    </tr>\n    <tr>\n      <th>5</th>\n      <td>M5A</td>\n      <td>Downtown Toronto</td>\n      <td>Regent Park</td>\n    </tr>\n  </tbody>\n</table>\n</div>"
                    }, 
                    "execution_count": 151, 
                    "metadata": {}
                }
            ], 
            "execution_count": 151
        }, 
        {
            "source": "posta", 
            "cell_type": "code", 
            "metadata": {}, 
            "outputs": [], 
            "execution_count": null
        }
    ], 
    "metadata": {
        "kernelspec": {
            "display_name": "Python 3.5", 
            "name": "python3", 
            "language": "python"
        }, 
        "language_info": {
            "mimetype": "text/x-python", 
            "nbconvert_exporter": "python", 
            "version": "3.5.5", 
            "name": "python", 
            "file_extension": ".py", 
            "pygments_lexer": "ipython3", 
            "codemirror_mode": {
                "version": 3, 
                "name": "ipython"
            }
        }
    }, 
    "nbformat": 4
}